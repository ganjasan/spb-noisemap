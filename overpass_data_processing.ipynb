{
 "cells": [
  {
   "cell_type": "code",
   "execution_count": 16,
   "metadata": {
    "collapsed": true
   },
   "outputs": [],
   "source": [
    "import geopandas as gp\n",
    "import os"
   ]
  },
  {
   "cell_type": "code",
   "execution_count": 17,
   "metadata": {
    "collapsed": true
   },
   "outputs": [],
   "source": [
    "path = \"C:/Users/Artem/Anaconda3/envs/spb-noisemap/noise-constructor\"\n",
    "\n",
    "export = gp.read_file(path+'/export.geojson')"
   ]
  },
  {
   "cell_type": "code",
   "execution_count": 18,
   "metadata": {},
   "outputs": [],
   "source": [
    "tags_dict = [\n",
    "            'amenity',\n",
    "            'tourism',\n",
    "            'historic',\n",
    "            'building:architecture',\n",
    "            'artwork_type']\n",
    "keys = []\n",
    "tags = []"
   ]
  },
  {
   "cell_type": "code",
   "execution_count": 19,
   "metadata": {
    "collapsed": true
   },
   "outputs": [],
   "source": [
    "export = export[export['amenity'].notnull() | export['tourism'].notnull()\n",
    "       | export['historic'].notnull() | export['building:architecture'].notnull()\n",
    "       | export['artwork_type'].notnull()]"
   ]
  },
  {
   "cell_type": "code",
   "execution_count": 22,
   "metadata": {},
   "outputs": [],
   "source": [
    "for x in range(export.shape[0]):\n",
    "    for tag in tags_dict:\n",
    "        if tag in export.columns:\n",
    "            if export[tag].values[x] is not None:\n",
    "                tags.append(tag)\n",
    "                keys.append(export[tag].values[x])\n",
    "                break"
   ]
  },
  {
   "cell_type": "code",
   "execution_count": 23,
   "metadata": {},
   "outputs": [],
   "source": [
    "export['tag']=tags         \n",
    "export['key']=keys\n",
    "export = export[['tag','key','geometry']]"
   ]
  },
  {
   "cell_type": "code",
   "execution_count": 24,
   "metadata": {},
   "outputs": [
    {
     "data": {
      "text/html": [
       "<div>\n",
       "<table border=\"1\" class=\"dataframe\">\n",
       "  <thead>\n",
       "    <tr style=\"text-align: right;\">\n",
       "      <th></th>\n",
       "      <th>tag</th>\n",
       "      <th>key</th>\n",
       "      <th>geometry</th>\n",
       "    </tr>\n",
       "  </thead>\n",
       "  <tbody>\n",
       "    <tr>\n",
       "      <th>0</th>\n",
       "      <td>amenity</td>\n",
       "      <td>arts_centre</td>\n",
       "      <td>POLYGON ((30.2882633 59.9379525, 30.2893817 59...</td>\n",
       "    </tr>\n",
       "    <tr>\n",
       "      <th>1</th>\n",
       "      <td>tourism</td>\n",
       "      <td>museum</td>\n",
       "      <td>POLYGON ((30.2603232 59.9395579, 30.2602829 59...</td>\n",
       "    </tr>\n",
       "    <tr>\n",
       "      <th>2</th>\n",
       "      <td>tourism</td>\n",
       "      <td>attraction</td>\n",
       "      <td>POLYGON ((30.3070334 59.9430663, 30.3070747 59...</td>\n",
       "    </tr>\n",
       "    <tr>\n",
       "      <th>3</th>\n",
       "      <td>tourism</td>\n",
       "      <td>attraction</td>\n",
       "      <td>POLYGON ((30.3051405 59.944638, 30.3051818 59....</td>\n",
       "    </tr>\n",
       "    <tr>\n",
       "      <th>4</th>\n",
       "      <td>tourism</td>\n",
       "      <td>attraction</td>\n",
       "      <td>POLYGON ((30.3049447 59.9439483, 30.304926 59....</td>\n",
       "    </tr>\n",
       "  </tbody>\n",
       "</table>\n",
       "</div>"
      ],
      "text/plain": [
       "       tag          key                                           geometry\n",
       "0  amenity  arts_centre  POLYGON ((30.2882633 59.9379525, 30.2893817 59...\n",
       "1  tourism       museum  POLYGON ((30.2603232 59.9395579, 30.2602829 59...\n",
       "2  tourism   attraction  POLYGON ((30.3070334 59.9430663, 30.3070747 59...\n",
       "3  tourism   attraction  POLYGON ((30.3051405 59.944638, 30.3051818 59....\n",
       "4  tourism   attraction  POLYGON ((30.3049447 59.9439483, 30.304926 59...."
      ]
     },
     "execution_count": 24,
     "metadata": {},
     "output_type": "execute_result"
    }
   ],
   "source": []
  },
  {
   "cell_type": "code",
   "execution_count": null,
   "metadata": {
    "collapsed": true
   },
   "outputs": [],
   "source": []
  }
 ],
 "metadata": {
  "kernelspec": {
   "display_name": "Python 3",
   "language": "python",
   "name": "python3"
  },
  "language_info": {
   "codemirror_mode": {
    "name": "ipython",
    "version": 3
   },
   "file_extension": ".py",
   "mimetype": "text/x-python",
   "name": "python",
   "nbconvert_exporter": "python",
   "pygments_lexer": "ipython3",
   "version": "3.4.5"
  }
 },
 "nbformat": 4,
 "nbformat_minor": 2
}
